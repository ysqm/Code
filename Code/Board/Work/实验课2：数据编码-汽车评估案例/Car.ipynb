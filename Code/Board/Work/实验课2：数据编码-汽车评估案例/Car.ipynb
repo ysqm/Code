{
 "cells": [
  {
   "cell_type": "code",
   "execution_count": 1,
   "id": "01e5df5e",
   "metadata": {
    "ExecuteTime": {
     "end_time": "2023-05-12T12:14:46.491778300Z",
     "start_time": "2023-05-12T12:14:46.249781400Z"
    }
   },
   "outputs": [],
   "source": [
    "import pandas as pd"
   ]
  },
  {
   "cell_type": "code",
   "execution_count": 2,
   "id": "aaef663f",
   "metadata": {
    "ExecuteTime": {
     "end_time": "2023-05-12T12:14:46.805345300Z",
     "start_time": "2023-05-12T12:14:46.493820200Z"
    }
   },
   "outputs": [],
   "source": [
    "from sklearn.preprocessing import LabelEncoder"
   ]
  },
  {
   "cell_type": "code",
   "execution_count": 3,
   "id": "4bfc8408",
   "metadata": {
    "ExecuteTime": {
     "end_time": "2023-05-12T12:14:46.838491100Z",
     "start_time": "2023-05-12T12:14:46.805345300Z"
    }
   },
   "outputs": [],
   "source": [
    "from sklearn.model_selection import train_test_split"
   ]
  },
  {
   "cell_type": "code",
   "execution_count": 4,
   "id": "92c08942",
   "metadata": {
    "ExecuteTime": {
     "end_time": "2023-05-12T12:14:46.890381300Z",
     "start_time": "2023-05-12T12:14:46.836492400Z"
    }
   },
   "outputs": [],
   "source": [
    "from sklearn.linear_model import LogisticRegression"
   ]
  },
  {
   "cell_type": "code",
   "execution_count": 5,
   "id": "95be69fe",
   "metadata": {
    "ExecuteTime": {
     "end_time": "2023-05-12T12:14:46.891393400Z",
     "start_time": "2023-05-12T12:14:46.869620200Z"
    }
   },
   "outputs": [],
   "source": [
    "from sklearn.metrics import classification_report"
   ]
  },
  {
   "cell_type": "code",
   "execution_count": 6,
   "id": "905c1054",
   "metadata": {
    "ExecuteTime": {
     "end_time": "2023-05-12T12:14:47.393283400Z",
     "start_time": "2023-05-12T12:14:46.884816800Z"
    }
   },
   "outputs": [
    {
     "ename": "FileNotFoundError",
     "evalue": "[Errno 2] No such file or directory: 'D:/input/car.csv'",
     "output_type": "error",
     "traceback": [
      "\u001B[1;31m---------------------------------------------------------------------------\u001B[0m",
      "\u001B[1;31mFileNotFoundError\u001B[0m                         Traceback (most recent call last)",
      "Cell \u001B[1;32mIn[6], line 2\u001B[0m\n\u001B[0;32m      1\u001B[0m \u001B[38;5;66;03m# 读入数据\u001B[39;00m\n\u001B[1;32m----> 2\u001B[0m car \u001B[38;5;241m=\u001B[39m \u001B[43mpd\u001B[49m\u001B[38;5;241;43m.\u001B[39;49m\u001B[43mread_csv\u001B[49m\u001B[43m(\u001B[49m\u001B[38;5;124;43m\"\u001B[39;49m\u001B[38;5;124;43mD:/input/car.csv\u001B[39;49m\u001B[38;5;124;43m\"\u001B[39;49m\u001B[43m)\u001B[49m\n\u001B[0;32m      3\u001B[0m \u001B[38;5;66;03m# 打印数据集的前五行\u001B[39;00m\n\u001B[0;32m      4\u001B[0m car\u001B[38;5;241m.\u001B[39mhead(\u001B[38;5;241m5\u001B[39m)\n",
      "File \u001B[1;32m~\\AppData\\Local\\Programs\\Python\\Python39\\lib\\site-packages\\pandas\\io\\parsers\\readers.py:912\u001B[0m, in \u001B[0;36mread_csv\u001B[1;34m(filepath_or_buffer, sep, delimiter, header, names, index_col, usecols, dtype, engine, converters, true_values, false_values, skipinitialspace, skiprows, skipfooter, nrows, na_values, keep_default_na, na_filter, verbose, skip_blank_lines, parse_dates, infer_datetime_format, keep_date_col, date_parser, date_format, dayfirst, cache_dates, iterator, chunksize, compression, thousands, decimal, lineterminator, quotechar, quoting, doublequote, escapechar, comment, encoding, encoding_errors, dialect, on_bad_lines, delim_whitespace, low_memory, memory_map, float_precision, storage_options, dtype_backend)\u001B[0m\n\u001B[0;32m    899\u001B[0m kwds_defaults \u001B[38;5;241m=\u001B[39m _refine_defaults_read(\n\u001B[0;32m    900\u001B[0m     dialect,\n\u001B[0;32m    901\u001B[0m     delimiter,\n\u001B[1;32m   (...)\u001B[0m\n\u001B[0;32m    908\u001B[0m     dtype_backend\u001B[38;5;241m=\u001B[39mdtype_backend,\n\u001B[0;32m    909\u001B[0m )\n\u001B[0;32m    910\u001B[0m kwds\u001B[38;5;241m.\u001B[39mupdate(kwds_defaults)\n\u001B[1;32m--> 912\u001B[0m \u001B[38;5;28;01mreturn\u001B[39;00m \u001B[43m_read\u001B[49m\u001B[43m(\u001B[49m\u001B[43mfilepath_or_buffer\u001B[49m\u001B[43m,\u001B[49m\u001B[43m \u001B[49m\u001B[43mkwds\u001B[49m\u001B[43m)\u001B[49m\n",
      "File \u001B[1;32m~\\AppData\\Local\\Programs\\Python\\Python39\\lib\\site-packages\\pandas\\io\\parsers\\readers.py:577\u001B[0m, in \u001B[0;36m_read\u001B[1;34m(filepath_or_buffer, kwds)\u001B[0m\n\u001B[0;32m    574\u001B[0m _validate_names(kwds\u001B[38;5;241m.\u001B[39mget(\u001B[38;5;124m\"\u001B[39m\u001B[38;5;124mnames\u001B[39m\u001B[38;5;124m\"\u001B[39m, \u001B[38;5;28;01mNone\u001B[39;00m))\n\u001B[0;32m    576\u001B[0m \u001B[38;5;66;03m# Create the parser.\u001B[39;00m\n\u001B[1;32m--> 577\u001B[0m parser \u001B[38;5;241m=\u001B[39m TextFileReader(filepath_or_buffer, \u001B[38;5;241m*\u001B[39m\u001B[38;5;241m*\u001B[39mkwds)\n\u001B[0;32m    579\u001B[0m \u001B[38;5;28;01mif\u001B[39;00m chunksize \u001B[38;5;129;01mor\u001B[39;00m iterator:\n\u001B[0;32m    580\u001B[0m     \u001B[38;5;28;01mreturn\u001B[39;00m parser\n",
      "File \u001B[1;32m~\\AppData\\Local\\Programs\\Python\\Python39\\lib\\site-packages\\pandas\\io\\parsers\\readers.py:1407\u001B[0m, in \u001B[0;36mTextFileReader.__init__\u001B[1;34m(self, f, engine, **kwds)\u001B[0m\n\u001B[0;32m   1404\u001B[0m     \u001B[38;5;28mself\u001B[39m\u001B[38;5;241m.\u001B[39moptions[\u001B[38;5;124m\"\u001B[39m\u001B[38;5;124mhas_index_names\u001B[39m\u001B[38;5;124m\"\u001B[39m] \u001B[38;5;241m=\u001B[39m kwds[\u001B[38;5;124m\"\u001B[39m\u001B[38;5;124mhas_index_names\u001B[39m\u001B[38;5;124m\"\u001B[39m]\n\u001B[0;32m   1406\u001B[0m \u001B[38;5;28mself\u001B[39m\u001B[38;5;241m.\u001B[39mhandles: IOHandles \u001B[38;5;241m|\u001B[39m \u001B[38;5;28;01mNone\u001B[39;00m \u001B[38;5;241m=\u001B[39m \u001B[38;5;28;01mNone\u001B[39;00m\n\u001B[1;32m-> 1407\u001B[0m \u001B[38;5;28mself\u001B[39m\u001B[38;5;241m.\u001B[39m_engine \u001B[38;5;241m=\u001B[39m \u001B[38;5;28;43mself\u001B[39;49m\u001B[38;5;241;43m.\u001B[39;49m\u001B[43m_make_engine\u001B[49m\u001B[43m(\u001B[49m\u001B[43mf\u001B[49m\u001B[43m,\u001B[49m\u001B[43m \u001B[49m\u001B[38;5;28;43mself\u001B[39;49m\u001B[38;5;241;43m.\u001B[39;49m\u001B[43mengine\u001B[49m\u001B[43m)\u001B[49m\n",
      "File \u001B[1;32m~\\AppData\\Local\\Programs\\Python\\Python39\\lib\\site-packages\\pandas\\io\\parsers\\readers.py:1661\u001B[0m, in \u001B[0;36mTextFileReader._make_engine\u001B[1;34m(self, f, engine)\u001B[0m\n\u001B[0;32m   1659\u001B[0m     \u001B[38;5;28;01mif\u001B[39;00m \u001B[38;5;124m\"\u001B[39m\u001B[38;5;124mb\u001B[39m\u001B[38;5;124m\"\u001B[39m \u001B[38;5;129;01mnot\u001B[39;00m \u001B[38;5;129;01min\u001B[39;00m mode:\n\u001B[0;32m   1660\u001B[0m         mode \u001B[38;5;241m+\u001B[39m\u001B[38;5;241m=\u001B[39m \u001B[38;5;124m\"\u001B[39m\u001B[38;5;124mb\u001B[39m\u001B[38;5;124m\"\u001B[39m\n\u001B[1;32m-> 1661\u001B[0m \u001B[38;5;28mself\u001B[39m\u001B[38;5;241m.\u001B[39mhandles \u001B[38;5;241m=\u001B[39m \u001B[43mget_handle\u001B[49m\u001B[43m(\u001B[49m\n\u001B[0;32m   1662\u001B[0m \u001B[43m    \u001B[49m\u001B[43mf\u001B[49m\u001B[43m,\u001B[49m\n\u001B[0;32m   1663\u001B[0m \u001B[43m    \u001B[49m\u001B[43mmode\u001B[49m\u001B[43m,\u001B[49m\n\u001B[0;32m   1664\u001B[0m \u001B[43m    \u001B[49m\u001B[43mencoding\u001B[49m\u001B[38;5;241;43m=\u001B[39;49m\u001B[38;5;28;43mself\u001B[39;49m\u001B[38;5;241;43m.\u001B[39;49m\u001B[43moptions\u001B[49m\u001B[38;5;241;43m.\u001B[39;49m\u001B[43mget\u001B[49m\u001B[43m(\u001B[49m\u001B[38;5;124;43m\"\u001B[39;49m\u001B[38;5;124;43mencoding\u001B[39;49m\u001B[38;5;124;43m\"\u001B[39;49m\u001B[43m,\u001B[49m\u001B[43m \u001B[49m\u001B[38;5;28;43;01mNone\u001B[39;49;00m\u001B[43m)\u001B[49m\u001B[43m,\u001B[49m\n\u001B[0;32m   1665\u001B[0m \u001B[43m    \u001B[49m\u001B[43mcompression\u001B[49m\u001B[38;5;241;43m=\u001B[39;49m\u001B[38;5;28;43mself\u001B[39;49m\u001B[38;5;241;43m.\u001B[39;49m\u001B[43moptions\u001B[49m\u001B[38;5;241;43m.\u001B[39;49m\u001B[43mget\u001B[49m\u001B[43m(\u001B[49m\u001B[38;5;124;43m\"\u001B[39;49m\u001B[38;5;124;43mcompression\u001B[39;49m\u001B[38;5;124;43m\"\u001B[39;49m\u001B[43m,\u001B[49m\u001B[43m \u001B[49m\u001B[38;5;28;43;01mNone\u001B[39;49;00m\u001B[43m)\u001B[49m\u001B[43m,\u001B[49m\n\u001B[0;32m   1666\u001B[0m \u001B[43m    \u001B[49m\u001B[43mmemory_map\u001B[49m\u001B[38;5;241;43m=\u001B[39;49m\u001B[38;5;28;43mself\u001B[39;49m\u001B[38;5;241;43m.\u001B[39;49m\u001B[43moptions\u001B[49m\u001B[38;5;241;43m.\u001B[39;49m\u001B[43mget\u001B[49m\u001B[43m(\u001B[49m\u001B[38;5;124;43m\"\u001B[39;49m\u001B[38;5;124;43mmemory_map\u001B[39;49m\u001B[38;5;124;43m\"\u001B[39;49m\u001B[43m,\u001B[49m\u001B[43m \u001B[49m\u001B[38;5;28;43;01mFalse\u001B[39;49;00m\u001B[43m)\u001B[49m\u001B[43m,\u001B[49m\n\u001B[0;32m   1667\u001B[0m \u001B[43m    \u001B[49m\u001B[43mis_text\u001B[49m\u001B[38;5;241;43m=\u001B[39;49m\u001B[43mis_text\u001B[49m\u001B[43m,\u001B[49m\n\u001B[0;32m   1668\u001B[0m \u001B[43m    \u001B[49m\u001B[43merrors\u001B[49m\u001B[38;5;241;43m=\u001B[39;49m\u001B[38;5;28;43mself\u001B[39;49m\u001B[38;5;241;43m.\u001B[39;49m\u001B[43moptions\u001B[49m\u001B[38;5;241;43m.\u001B[39;49m\u001B[43mget\u001B[49m\u001B[43m(\u001B[49m\u001B[38;5;124;43m\"\u001B[39;49m\u001B[38;5;124;43mencoding_errors\u001B[39;49m\u001B[38;5;124;43m\"\u001B[39;49m\u001B[43m,\u001B[49m\u001B[43m \u001B[49m\u001B[38;5;124;43m\"\u001B[39;49m\u001B[38;5;124;43mstrict\u001B[39;49m\u001B[38;5;124;43m\"\u001B[39;49m\u001B[43m)\u001B[49m\u001B[43m,\u001B[49m\n\u001B[0;32m   1669\u001B[0m \u001B[43m    \u001B[49m\u001B[43mstorage_options\u001B[49m\u001B[38;5;241;43m=\u001B[39;49m\u001B[38;5;28;43mself\u001B[39;49m\u001B[38;5;241;43m.\u001B[39;49m\u001B[43moptions\u001B[49m\u001B[38;5;241;43m.\u001B[39;49m\u001B[43mget\u001B[49m\u001B[43m(\u001B[49m\u001B[38;5;124;43m\"\u001B[39;49m\u001B[38;5;124;43mstorage_options\u001B[39;49m\u001B[38;5;124;43m\"\u001B[39;49m\u001B[43m,\u001B[49m\u001B[43m \u001B[49m\u001B[38;5;28;43;01mNone\u001B[39;49;00m\u001B[43m)\u001B[49m\u001B[43m,\u001B[49m\n\u001B[0;32m   1670\u001B[0m \u001B[43m\u001B[49m\u001B[43m)\u001B[49m\n\u001B[0;32m   1671\u001B[0m \u001B[38;5;28;01massert\u001B[39;00m \u001B[38;5;28mself\u001B[39m\u001B[38;5;241m.\u001B[39mhandles \u001B[38;5;129;01mis\u001B[39;00m \u001B[38;5;129;01mnot\u001B[39;00m \u001B[38;5;28;01mNone\u001B[39;00m\n\u001B[0;32m   1672\u001B[0m f \u001B[38;5;241m=\u001B[39m \u001B[38;5;28mself\u001B[39m\u001B[38;5;241m.\u001B[39mhandles\u001B[38;5;241m.\u001B[39mhandle\n",
      "File \u001B[1;32m~\\AppData\\Local\\Programs\\Python\\Python39\\lib\\site-packages\\pandas\\io\\common.py:859\u001B[0m, in \u001B[0;36mget_handle\u001B[1;34m(path_or_buf, mode, encoding, compression, memory_map, is_text, errors, storage_options)\u001B[0m\n\u001B[0;32m    854\u001B[0m \u001B[38;5;28;01melif\u001B[39;00m \u001B[38;5;28misinstance\u001B[39m(handle, \u001B[38;5;28mstr\u001B[39m):\n\u001B[0;32m    855\u001B[0m     \u001B[38;5;66;03m# Check whether the filename is to be opened in binary mode.\u001B[39;00m\n\u001B[0;32m    856\u001B[0m     \u001B[38;5;66;03m# Binary mode does not support 'encoding' and 'newline'.\u001B[39;00m\n\u001B[0;32m    857\u001B[0m     \u001B[38;5;28;01mif\u001B[39;00m ioargs\u001B[38;5;241m.\u001B[39mencoding \u001B[38;5;129;01mand\u001B[39;00m \u001B[38;5;124m\"\u001B[39m\u001B[38;5;124mb\u001B[39m\u001B[38;5;124m\"\u001B[39m \u001B[38;5;129;01mnot\u001B[39;00m \u001B[38;5;129;01min\u001B[39;00m ioargs\u001B[38;5;241m.\u001B[39mmode:\n\u001B[0;32m    858\u001B[0m         \u001B[38;5;66;03m# Encoding\u001B[39;00m\n\u001B[1;32m--> 859\u001B[0m         handle \u001B[38;5;241m=\u001B[39m \u001B[38;5;28;43mopen\u001B[39;49m\u001B[43m(\u001B[49m\n\u001B[0;32m    860\u001B[0m \u001B[43m            \u001B[49m\u001B[43mhandle\u001B[49m\u001B[43m,\u001B[49m\n\u001B[0;32m    861\u001B[0m \u001B[43m            \u001B[49m\u001B[43mioargs\u001B[49m\u001B[38;5;241;43m.\u001B[39;49m\u001B[43mmode\u001B[49m\u001B[43m,\u001B[49m\n\u001B[0;32m    862\u001B[0m \u001B[43m            \u001B[49m\u001B[43mencoding\u001B[49m\u001B[38;5;241;43m=\u001B[39;49m\u001B[43mioargs\u001B[49m\u001B[38;5;241;43m.\u001B[39;49m\u001B[43mencoding\u001B[49m\u001B[43m,\u001B[49m\n\u001B[0;32m    863\u001B[0m \u001B[43m            \u001B[49m\u001B[43merrors\u001B[49m\u001B[38;5;241;43m=\u001B[39;49m\u001B[43merrors\u001B[49m\u001B[43m,\u001B[49m\n\u001B[0;32m    864\u001B[0m \u001B[43m            \u001B[49m\u001B[43mnewline\u001B[49m\u001B[38;5;241;43m=\u001B[39;49m\u001B[38;5;124;43m\"\u001B[39;49m\u001B[38;5;124;43m\"\u001B[39;49m\u001B[43m,\u001B[49m\n\u001B[0;32m    865\u001B[0m \u001B[43m        \u001B[49m\u001B[43m)\u001B[49m\n\u001B[0;32m    866\u001B[0m     \u001B[38;5;28;01melse\u001B[39;00m:\n\u001B[0;32m    867\u001B[0m         \u001B[38;5;66;03m# Binary mode\u001B[39;00m\n\u001B[0;32m    868\u001B[0m         handle \u001B[38;5;241m=\u001B[39m \u001B[38;5;28mopen\u001B[39m(handle, ioargs\u001B[38;5;241m.\u001B[39mmode)\n",
      "\u001B[1;31mFileNotFoundError\u001B[0m: [Errno 2] No such file or directory: 'D:/input/car.csv'"
     ]
    }
   ],
   "source": [
    "# 读入数据\n",
    "car = pd.read_csv(\"D:/input/car.csv\")\n",
    "# 打印数据集的前五行\n",
    "car.head(5)"
   ]
  },
  {
   "cell_type": "code",
   "execution_count": null,
   "id": "693b1a57",
   "metadata": {},
   "outputs": [],
   "source": [
    "# 查看数据集大小\n",
    "car.shape"
   ]
  },
  {
   "cell_type": "code",
   "execution_count": null,
   "id": "3b98b8ca",
   "metadata": {},
   "outputs": [],
   "source": [
    "# 查看各个取值的数量分布\n",
    "print(car[\"acceptance\"].value_counts())"
   ]
  },
  {
   "cell_type": "code",
   "execution_count": null,
   "id": "48503d78",
   "metadata": {},
   "outputs": [],
   "source": [
    "# 查看各个取值的比例分布\n",
    "print((car[\"acceptance\"].value_counts() + 0.0) / car.shape[0])"
   ]
  },
  {
   "cell_type": "code",
   "execution_count": null,
   "id": "56e91b55",
   "metadata": {},
   "outputs": [],
   "source": [
    "# 创建要进行数字编码的数据集\n",
    "car_num_encoded = car.copy()\n",
    "# 根据编码规则创建编码字典\n",
    "buying_dict = {\"low\": 0, \"med\": 1, \"high\": 2, \"vhigh\": 3}\n",
    "# 进行编码\n",
    "car_num_encoded[\"buying\"] = car_num_encoded[\"buying\"].map(buying_dict)"
   ]
  },
  {
   "cell_type": "code",
   "execution_count": null,
   "id": "10adacc5",
   "metadata": {},
   "outputs": [],
   "source": [
    "# 查看编码列的前五行\n",
    "car_num_encoded[\"buying\"].head(5)"
   ]
  },
  {
   "cell_type": "code",
   "execution_count": null,
   "id": "af92df73",
   "metadata": {},
   "outputs": [],
   "source": [
    "# maint特征数字编码\n",
    "maint_dict = {\"low\": 0, \"med\": 1, \"high\": 2, \"vhigh\": 3}\n",
    "car_num_encoded[\"maint\"] = car_num_encoded[\"maint\"].map(maint_dict)"
   ]
  },
  {
   "cell_type": "code",
   "execution_count": null,
   "id": "ada6bdb9",
   "metadata": {},
   "outputs": [],
   "source": [
    "# lug_boot特征数字编码\n",
    "lug_boot_dict = {\"small\": 0, \"med\": 1, \"big\": 2}\n",
    "car_num_encoded[\"lug_boot\"] = car_num_encoded[\"lug_boot\"].map(lug_boot_dict)"
   ]
  },
  {
   "cell_type": "code",
   "execution_count": null,
   "id": "ec09cc2c",
   "metadata": {},
   "outputs": [],
   "source": [
    "# safety特征数字编码\n",
    "safety_dict = {\"low\": 0, \"med\": 1, \"high\": 2}\n",
    "car_num_encoded[\"safety\"] = car_num_encoded[\"safety\"].map(safety_dict)"
   ]
  },
  {
   "cell_type": "code",
   "execution_count": null,
   "id": "91c6d41a",
   "metadata": {},
   "outputs": [],
   "source": [
    "# 查看编码后的数据前五行\n",
    "car_num_encoded.head(5)"
   ]
  },
  {
   "cell_type": "code",
   "execution_count": null,
   "id": "53a657b7",
   "metadata": {},
   "outputs": [],
   "source": [
    "# 将车门数量一列中，5more替换为6\n",
    "car_num_encoded.doors.replace(\"5more\", \"6\", inplace=True)\n",
    "# 将核载人数一列中，more替换为6\n",
    "car_num_encoded.persons.replace(\"more\", \"6\", inplace=True)"
   ]
  },
  {
   "cell_type": "code",
   "execution_count": null,
   "id": "f2ac01d8",
   "metadata": {},
   "outputs": [],
   "source": [
    "print(car_num_encoded[\"doors\"].value_counts())"
   ]
  },
  {
   "cell_type": "code",
   "execution_count": null,
   "id": "ac7b1cd2",
   "metadata": {},
   "outputs": [],
   "source": [
    "print(car_num_encoded[\"persons\"].value_counts())"
   ]
  },
  {
   "cell_type": "code",
   "execution_count": null,
   "id": "b3808a70",
   "metadata": {},
   "outputs": [],
   "source": [
    "print(car_num_encoded.doors.dtype, car_num_encoded.persons.dtype)"
   ]
  },
  {
   "cell_type": "code",
   "execution_count": null,
   "id": "95b65971",
   "metadata": {},
   "outputs": [],
   "source": [
    "# 将车门数量属性类型变更为整型\n",
    "car_num_encoded[\"doors\"] = car_num_encoded[\"doors\"].astype(\"int\")\n",
    "# 将核载人数属性类型变更为整型\n",
    "car_num_encoded[\"persons\"] = car_num_encoded[\"persons\"].astype(\"int\")"
   ]
  },
  {
   "cell_type": "code",
   "execution_count": null,
   "id": "ae01e324",
   "metadata": {},
   "outputs": [],
   "source": [
    "print(car_num_encoded.doors.dtype, car_num_encoded.persons.dtype)"
   ]
  },
  {
   "cell_type": "code",
   "execution_count": null,
   "id": "000c039e",
   "metadata": {},
   "outputs": [],
   "source": [
    "car_num_encoded.head(5)"
   ]
  },
  {
   "cell_type": "code",
   "execution_count": null,
   "id": "e5d0d8cf",
   "metadata": {},
   "outputs": [],
   "source": [
    "# 创建编码器\n",
    "buying_encoder = LabelEncoder()\n",
    "# 适配数据集并完成编码\n",
    "encoded_buying = buying_encoder.fit_transform(car[\"buying\"])"
   ]
  },
  {
   "cell_type": "code",
   "execution_count": null,
   "id": "a558cc44",
   "metadata": {},
   "outputs": [],
   "source": [
    "buying_encoder.inverse_transform([0, 1, 2, 3])"
   ]
  },
  {
   "cell_type": "code",
   "execution_count": null,
   "id": "fc85a0b0",
   "metadata": {},
   "outputs": [],
   "source": [
    "pd.get_dummies(car[\"buying\"], prefix=\"buying_\").head(5)"
   ]
  },
  {
   "cell_type": "code",
   "execution_count": null,
   "id": "2fb17eec",
   "metadata": {},
   "outputs": [],
   "source": [
    "car_onehot_encoded = pd.DataFrame()"
   ]
  },
  {
   "cell_type": "code",
   "execution_count": null,
   "id": "dfe267a0",
   "metadata": {},
   "outputs": [],
   "source": [
    "for col in [\"buying\", \"maint\", \"doors\", \"persons\", \"lug_boot\", \"safety\"]:\n",
    "    col_encoded = pd.get_dummies(car[col], prefix=col + \"_\")\n",
    "    car_onehot_encoded = pd.concat([car_onehot_encoded, col_encoded], axis=1)"
   ]
  },
  {
   "cell_type": "code",
   "execution_count": null,
   "id": "f3683633",
   "metadata": {},
   "outputs": [],
   "source": [
    "car_onehot_encoded = pd.concat([car_onehot_encoded, car[\"acceptance\"]], axis=1)"
   ]
  },
  {
   "cell_type": "code",
   "execution_count": null,
   "id": "1ec200ab",
   "metadata": {},
   "outputs": [],
   "source": [
    "car_onehot_encoded.head(5)"
   ]
  },
  {
   "cell_type": "code",
   "execution_count": null,
   "id": "27073262",
   "metadata": {},
   "outputs": [],
   "source": [
    "# 数字编码数据集进行划分\n",
    "x_num = car_num_encoded.iloc[:,:6]\n",
    "y_num = car_num_encoded[\"acceptance\"]\n",
    "# 将百分之七十数据作为训练集，剩余作为测试集。按照acceptance进行分成抽样，确保测试集和训练集满意程度分布情况一致\n",
    "x_train_num, x_test_num, y_train_num, y_test_num = train_test_split(x_num, y_num, test_size=0.3, stratify=y_num, random_state=42)"
   ]
  },
  {
   "cell_type": "code",
   "execution_count": null,
   "id": "ad8155b4",
   "metadata": {},
   "outputs": [],
   "source": [
    "# 输出训练集各个取值样本所占比例\n",
    "print (y_train_num.value_counts()/len(y_train_num))\n",
    "# 输出测试集各个取值样本所占比例\n",
    "print (y_test_num.value_counts()/len(y_test_num))"
   ]
  },
  {
   "cell_type": "code",
   "execution_count": null,
   "id": "8c7bf5f9",
   "metadata": {},
   "outputs": [],
   "source": [
    "# one-hot编码数据集进行划分\n",
    "x_onehot = car_onehot_encoded.iloc[:,:21]\n",
    "y_onehot = car_onehot_encoded[\"acceptance\"]\n",
    "# 将百分之七十数据作为训练集，剩余作为测试集。按照acceptance进行分成抽样，确保测试集和训练集满意程度分布情况一致\n",
    "x_train_onehot, x_test_onehot, y_train_onehot, y_test_onehot = train_test_split(x_onehot, y_onehot, test_size=0.3, stratify=y_onehot, random_state=42)"
   ]
  },
  {
   "cell_type": "code",
   "execution_count": null,
   "id": "6cd317d1",
   "metadata": {},
   "outputs": [],
   "source": [
    "# 输出训练集各个取值样本所占比例\n",
    "print (y_train_onehot.value_counts()/len(y_train_onehot))\n",
    "# 输出测试集各个取值样本所占比例\n",
    "print (y_test_onehot.value_counts()/len(y_test_onehot))"
   ]
  },
  {
   "cell_type": "code",
   "execution_count": null,
   "id": "353af241",
   "metadata": {},
   "outputs": [],
   "source": [
    "# 创建逻辑回归模型模型\n",
    "num_model = LogisticRegression(max_iter=5000)\n",
    "onehot_model = LogisticRegression(max_iter=5000)"
   ]
  },
  {
   "cell_type": "code",
   "execution_count": null,
   "id": "0bb99aa7",
   "metadata": {},
   "outputs": [],
   "source": [
    "# 分别用数字编码的数据集和one-hot编码的数据集训练模型\n",
    "num_model.fit(x_train_num, y_train_num)\n",
    "onehot_model.fit(x_train_onehot, y_train_onehot)"
   ]
  },
  {
   "cell_type": "code",
   "execution_count": null,
   "id": "ccef1261",
   "metadata": {},
   "outputs": [],
   "source": [
    "# 获取数据编码对应模型的预测结果\n",
    "y_pred_num = num_model.predict(x_test_num)\n",
    "# 获取one-hot编码对应模型的预测结果\n",
    "y_pred_onehot = onehot_model.predict(x_test_onehot)"
   ]
  },
  {
   "cell_type": "code",
   "execution_count": null,
   "id": "6fdea107",
   "metadata": {},
   "outputs": [],
   "source": [
    "# 查看数字编码训练模型的性能\n",
    "print(classification_report(y_test_num, y_pred_num))"
   ]
  },
  {
   "cell_type": "code",
   "execution_count": null,
   "id": "aa916238",
   "metadata": {},
   "outputs": [],
   "source": [
    "# 查看onehot编码训练模型的性能\n",
    "print(classification_report(y_test_onehot, y_pred_onehot))"
   ]
  },
  {
   "cell_type": "code",
   "execution_count": null,
   "id": "20e206ef",
   "metadata": {},
   "outputs": [],
   "source": [
    "car_onehot_encoded.to_csv(\"D:/output/one-hot.csv\")"
   ]
  },
  {
   "cell_type": "code",
   "execution_count": null,
   "id": "931aa35d",
   "metadata": {},
   "outputs": [],
   "source": []
  }
 ],
 "metadata": {
  "kernelspec": {
   "display_name": "Python 3",
   "language": "python",
   "name": "python3"
  },
  "language_info": {
   "codemirror_mode": {
    "name": "ipython",
    "version": 3
   },
   "file_extension": ".py",
   "mimetype": "text/x-python",
   "name": "python",
   "nbconvert_exporter": "python",
   "pygments_lexer": "ipython3",
   "version": "3.8.8"
  }
 },
 "nbformat": 4,
 "nbformat_minor": 5
}
