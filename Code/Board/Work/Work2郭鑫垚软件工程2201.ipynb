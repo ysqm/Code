{
 "cells": [
  {
   "cell_type": "code",
   "execution_count": 1,
   "metadata": {
    "collapsed": true,
    "ExecuteTime": {
     "end_time": "2023-05-12T12:00:57.373098100Z",
     "start_time": "2023-05-12T12:00:57.093966600Z"
    }
   },
   "outputs": [],
   "source": [
    "import pandas as pd\n",
    "from sklearn.preprocessing import LabelEncoder\n",
    "from sklearn.model_selection import train_test_split\n",
    "from sklearn.linear_model import LogisticRegression\n",
    "from sklearn.metrics import classification_report"
   ]
  },
  {
   "cell_type": "code",
   "execution_count": 3,
   "outputs": [
    {
     "data": {
      "text/plain": "  buying  maint doors persons lug_boot safety acceptance\n0  vhigh  vhigh     2       2    small    low      unacc\n1  vhigh  vhigh     2       2    small    med      unacc\n2  vhigh  vhigh     2       2    small   high      unacc\n3  vhigh  vhigh     2       2      med    low      unacc\n4  vhigh  vhigh     2       2      med    med      unacc",
      "text/html": "<div>\n<style scoped>\n    .dataframe tbody tr th:only-of-type {\n        vertical-align: middle;\n    }\n\n    .dataframe tbody tr th {\n        vertical-align: top;\n    }\n\n    .dataframe thead th {\n        text-align: right;\n    }\n</style>\n<table border=\"1\" class=\"dataframe\">\n  <thead>\n    <tr style=\"text-align: right;\">\n      <th></th>\n      <th>buying</th>\n      <th>maint</th>\n      <th>doors</th>\n      <th>persons</th>\n      <th>lug_boot</th>\n      <th>safety</th>\n      <th>acceptance</th>\n    </tr>\n  </thead>\n  <tbody>\n    <tr>\n      <th>0</th>\n      <td>vhigh</td>\n      <td>vhigh</td>\n      <td>2</td>\n      <td>2</td>\n      <td>small</td>\n      <td>low</td>\n      <td>unacc</td>\n    </tr>\n    <tr>\n      <th>1</th>\n      <td>vhigh</td>\n      <td>vhigh</td>\n      <td>2</td>\n      <td>2</td>\n      <td>small</td>\n      <td>med</td>\n      <td>unacc</td>\n    </tr>\n    <tr>\n      <th>2</th>\n      <td>vhigh</td>\n      <td>vhigh</td>\n      <td>2</td>\n      <td>2</td>\n      <td>small</td>\n      <td>high</td>\n      <td>unacc</td>\n    </tr>\n    <tr>\n      <th>3</th>\n      <td>vhigh</td>\n      <td>vhigh</td>\n      <td>2</td>\n      <td>2</td>\n      <td>med</td>\n      <td>low</td>\n      <td>unacc</td>\n    </tr>\n    <tr>\n      <th>4</th>\n      <td>vhigh</td>\n      <td>vhigh</td>\n      <td>2</td>\n      <td>2</td>\n      <td>med</td>\n      <td>med</td>\n      <td>unacc</td>\n    </tr>\n  </tbody>\n</table>\n</div>"
     },
     "execution_count": 3,
     "metadata": {},
     "output_type": "execute_result"
    }
   ],
   "source": [
    "# 读入数据\n",
    "car = pd.read_csv(\"./input/car.csv\")\n",
    "# 打印数据集的前五行\n",
    "car.head(5)"
   ],
   "metadata": {
    "collapsed": false,
    "ExecuteTime": {
     "end_time": "2023-05-12T12:01:16.701290500Z",
     "start_time": "2023-05-12T12:01:16.668697300Z"
    }
   }
  },
  {
   "cell_type": "code",
   "execution_count": 4,
   "outputs": [
    {
     "data": {
      "text/plain": "(1728, 7)"
     },
     "execution_count": 4,
     "metadata": {},
     "output_type": "execute_result"
    }
   ],
   "source": [
    "# 查看数据集大小\n",
    "car.shape\n"
   ],
   "metadata": {
    "collapsed": false,
    "ExecuteTime": {
     "end_time": "2023-05-12T12:01:26.544422Z",
     "start_time": "2023-05-12T12:01:26.528352400Z"
    }
   }
  },
  {
   "cell_type": "code",
   "execution_count": 5,
   "outputs": [
    {
     "name": "stdout",
     "output_type": "stream",
     "text": [
      "acceptance\n",
      "unacc    1210\n",
      "acc       384\n",
      "good       69\n",
      "vgood      65\n",
      "Name: count, dtype: int64\n"
     ]
    }
   ],
   "source": [
    "# 查看各个取值的数量分布\n",
    "print(car[\"acceptance\"].value_counts())"
   ],
   "metadata": {
    "collapsed": false,
    "ExecuteTime": {
     "end_time": "2023-05-12T12:01:54.543847800Z",
     "start_time": "2023-05-12T12:01:54.529746500Z"
    }
   }
  },
  {
   "cell_type": "code",
   "execution_count": 6,
   "outputs": [
    {
     "name": "stdout",
     "output_type": "stream",
     "text": [
      "acceptance\n",
      "unacc    0.700231\n",
      "acc      0.222222\n",
      "good     0.039931\n",
      "vgood    0.037616\n",
      "Name: count, dtype: float64\n"
     ]
    }
   ],
   "source": [
    "\n",
    "# 查看各个取值的比例分布\n",
    "print((car[\"acceptance\"].value_counts() + 0.0) / car.shape[0])\n"
   ],
   "metadata": {
    "collapsed": false,
    "ExecuteTime": {
     "end_time": "2023-05-12T12:01:56.774130400Z",
     "start_time": "2023-05-12T12:01:56.768654700Z"
    }
   }
  },
  {
   "cell_type": "code",
   "execution_count": 8,
   "outputs": [
    {
     "data": {
      "text/plain": "0    3\n1    3\n2    3\n3    3\n4    3\nName: buying, dtype: int64"
     },
     "execution_count": 8,
     "metadata": {},
     "output_type": "execute_result"
    }
   ],
   "source": [
    "# 创建要进行数字编码的数据集\n",
    "car_num_encoded = car.copy()\n",
    "# 根据编码规则创建编码字典\n",
    "buying_dict = {\"low\": 0, \"med\": 1, \"high\": 2, \"vhigh\": 3}\n",
    "# 进行编码\n",
    "car_num_encoded[\"buying\"] = car_num_encoded[\"buying\"].map(buying_dict)\n",
    "# 查看编码列的前五行\n",
    "car_num_encoded[\"buying\"].head(5)\n"
   ],
   "metadata": {
    "collapsed": false,
    "ExecuteTime": {
     "end_time": "2023-05-12T12:02:45.736367500Z",
     "start_time": "2023-05-12T12:02:45.722848600Z"
    }
   }
  },
  {
   "cell_type": "code",
   "execution_count": 9,
   "outputs": [
    {
     "data": {
      "text/plain": "   buying  maint doors persons  lug_boot  safety acceptance\n0       3      3     2       2         0       0      unacc\n1       3      3     2       2         0       1      unacc\n2       3      3     2       2         0       2      unacc\n3       3      3     2       2         1       0      unacc\n4       3      3     2       2         1       1      unacc",
      "text/html": "<div>\n<style scoped>\n    .dataframe tbody tr th:only-of-type {\n        vertical-align: middle;\n    }\n\n    .dataframe tbody tr th {\n        vertical-align: top;\n    }\n\n    .dataframe thead th {\n        text-align: right;\n    }\n</style>\n<table border=\"1\" class=\"dataframe\">\n  <thead>\n    <tr style=\"text-align: right;\">\n      <th></th>\n      <th>buying</th>\n      <th>maint</th>\n      <th>doors</th>\n      <th>persons</th>\n      <th>lug_boot</th>\n      <th>safety</th>\n      <th>acceptance</th>\n    </tr>\n  </thead>\n  <tbody>\n    <tr>\n      <th>0</th>\n      <td>3</td>\n      <td>3</td>\n      <td>2</td>\n      <td>2</td>\n      <td>0</td>\n      <td>0</td>\n      <td>unacc</td>\n    </tr>\n    <tr>\n      <th>1</th>\n      <td>3</td>\n      <td>3</td>\n      <td>2</td>\n      <td>2</td>\n      <td>0</td>\n      <td>1</td>\n      <td>unacc</td>\n    </tr>\n    <tr>\n      <th>2</th>\n      <td>3</td>\n      <td>3</td>\n      <td>2</td>\n      <td>2</td>\n      <td>0</td>\n      <td>2</td>\n      <td>unacc</td>\n    </tr>\n    <tr>\n      <th>3</th>\n      <td>3</td>\n      <td>3</td>\n      <td>2</td>\n      <td>2</td>\n      <td>1</td>\n      <td>0</td>\n      <td>unacc</td>\n    </tr>\n    <tr>\n      <th>4</th>\n      <td>3</td>\n      <td>3</td>\n      <td>2</td>\n      <td>2</td>\n      <td>1</td>\n      <td>1</td>\n      <td>unacc</td>\n    </tr>\n  </tbody>\n</table>\n</div>"
     },
     "execution_count": 9,
     "metadata": {},
     "output_type": "execute_result"
    }
   ],
   "source": [
    "# maint特征数字编码\n",
    "maint_dict = {\"low\": 0, \"med\": 1, \"high\": 2, \"vhigh\": 3}\n",
    "car_num_encoded[\"maint\"] = car_num_encoded[\"maint\"].map(maint_dict)\n",
    "\n",
    "# lug_boot特征数字编码\n",
    "lug_boot_dict = {\"small\": 0, \"med\": 1, \"big\": 2}\n",
    "car_num_encoded[\"lug_boot\"] = car_num_encoded[\"lug_boot\"].map(lug_boot_dict)\n",
    "\n",
    "# safety特征数字编码\n",
    "safety_dict = {\"low\": 0, \"med\": 1, \"high\": 2}\n",
    "car_num_encoded[\"safety\"] = car_num_encoded[\"safety\"].map(safety_dict)\n",
    "car_num_encoded.head(5)"
   ],
   "metadata": {
    "collapsed": false,
    "ExecuteTime": {
     "end_time": "2023-05-12T12:06:02.771998300Z",
     "start_time": "2023-05-12T12:06:02.743131400Z"
    }
   }
  },
  {
   "cell_type": "code",
   "execution_count": 10,
   "outputs": [
    {
     "name": "stdout",
     "output_type": "stream",
     "text": [
      "doors\n",
      "2    432\n",
      "3    432\n",
      "4    432\n",
      "6    432\n",
      "Name: count, dtype: int64\n",
      "persons\n",
      "2    576\n",
      "4    576\n",
      "6    576\n",
      "Name: count, dtype: int64\n"
     ]
    }
   ],
   "source": [
    "# 将车门数量一列中，5more替换为6\n",
    "car_num_encoded.doors.replace(\"5more\", \"6\", inplace=True)\n",
    "# 将核载人数一列中，more替换为6\n",
    "car_num_encoded.persons.replace(\"more\", \"6\", inplace=True)\n",
    "# 查看两个属性取值的分布情况。\n",
    "print(car_num_encoded[\"doors\"].value_counts())\n",
    "\n",
    "print(car_num_encoded[\"persons\"].value_counts())\n"
   ],
   "metadata": {
    "collapsed": false,
    "ExecuteTime": {
     "end_time": "2023-05-12T12:07:27.314399700Z",
     "start_time": "2023-05-12T12:07:27.270491600Z"
    }
   }
  },
  {
   "cell_type": "code",
   "execution_count": 11,
   "outputs": [
    {
     "name": "stdout",
     "output_type": "stream",
     "text": [
      "object object\n"
     ]
    }
   ],
   "source": [
    "print(car_num_encoded.doors.dtype, car_num_encoded.persons.dtype)"
   ],
   "metadata": {
    "collapsed": false,
    "ExecuteTime": {
     "end_time": "2023-05-12T12:08:15.207584500Z",
     "start_time": "2023-05-12T12:08:15.201967600Z"
    }
   }
  },
  {
   "cell_type": "code",
   "execution_count": 13,
   "outputs": [
    {
     "name": "stdout",
     "output_type": "stream",
     "text": [
      "int32 int32\n"
     ]
    }
   ],
   "source": [
    "# 将车门数量属性类型变更为整型\n",
    "car_num_encoded[\"doors\"] = car_num_encoded[\"doors\"].astype(\"int\")\n",
    "# 将核载人数属性类型变更为整型\n",
    "car_num_encoded[\"persons\"] = car_num_encoded[\"persons\"].astype(\"int\")\n",
    "print(car_num_encoded.doors.dtype, car_num_encoded.persons.dtype)"
   ],
   "metadata": {
    "collapsed": false,
    "ExecuteTime": {
     "end_time": "2023-05-12T12:08:41.087207500Z",
     "start_time": "2023-05-12T12:08:41.062411900Z"
    }
   }
  },
  {
   "cell_type": "code",
   "execution_count": 14,
   "outputs": [
    {
     "data": {
      "text/plain": "   buying  maint  doors  persons  lug_boot  safety acceptance\n0       3      3      2        2         0       0      unacc\n1       3      3      2        2         0       1      unacc\n2       3      3      2        2         0       2      unacc\n3       3      3      2        2         1       0      unacc\n4       3      3      2        2         1       1      unacc",
      "text/html": "<div>\n<style scoped>\n    .dataframe tbody tr th:only-of-type {\n        vertical-align: middle;\n    }\n\n    .dataframe tbody tr th {\n        vertical-align: top;\n    }\n\n    .dataframe thead th {\n        text-align: right;\n    }\n</style>\n<table border=\"1\" class=\"dataframe\">\n  <thead>\n    <tr style=\"text-align: right;\">\n      <th></th>\n      <th>buying</th>\n      <th>maint</th>\n      <th>doors</th>\n      <th>persons</th>\n      <th>lug_boot</th>\n      <th>safety</th>\n      <th>acceptance</th>\n    </tr>\n  </thead>\n  <tbody>\n    <tr>\n      <th>0</th>\n      <td>3</td>\n      <td>3</td>\n      <td>2</td>\n      <td>2</td>\n      <td>0</td>\n      <td>0</td>\n      <td>unacc</td>\n    </tr>\n    <tr>\n      <th>1</th>\n      <td>3</td>\n      <td>3</td>\n      <td>2</td>\n      <td>2</td>\n      <td>0</td>\n      <td>1</td>\n      <td>unacc</td>\n    </tr>\n    <tr>\n      <th>2</th>\n      <td>3</td>\n      <td>3</td>\n      <td>2</td>\n      <td>2</td>\n      <td>0</td>\n      <td>2</td>\n      <td>unacc</td>\n    </tr>\n    <tr>\n      <th>3</th>\n      <td>3</td>\n      <td>3</td>\n      <td>2</td>\n      <td>2</td>\n      <td>1</td>\n      <td>0</td>\n      <td>unacc</td>\n    </tr>\n    <tr>\n      <th>4</th>\n      <td>3</td>\n      <td>3</td>\n      <td>2</td>\n      <td>2</td>\n      <td>1</td>\n      <td>1</td>\n      <td>unacc</td>\n    </tr>\n  </tbody>\n</table>\n</div>"
     },
     "execution_count": 14,
     "metadata": {},
     "output_type": "execute_result"
    }
   ],
   "source": [
    "car_num_encoded.head(5)"
   ],
   "metadata": {
    "collapsed": false,
    "ExecuteTime": {
     "end_time": "2023-05-12T12:08:51.534436800Z",
     "start_time": "2023-05-12T12:08:51.528824700Z"
    }
   }
  },
  {
   "cell_type": "code",
   "execution_count": 15,
   "outputs": [
    {
     "data": {
      "text/plain": "array(['high', 'low', 'med', 'vhigh'], dtype=object)"
     },
     "execution_count": 15,
     "metadata": {},
     "output_type": "execute_result"
    }
   ],
   "source": [
    "# 创建编码器\n",
    "buying_encoder = LabelEncoder()\n",
    "# 适配数据集并完成编码\n",
    "encoded_buying = buying_encoder.fit_transform(car[\"buying\"])\n",
    "# 查看原数据和编码的对应关系：\n",
    "buying_encoder.inverse_transform([0, 1, 2, 3])\n"
   ],
   "metadata": {
    "collapsed": false,
    "ExecuteTime": {
     "end_time": "2023-05-12T12:09:50.425328600Z",
     "start_time": "2023-05-12T12:09:50.353133800Z"
    }
   }
  },
  {
   "cell_type": "code",
   "execution_count": 16,
   "outputs": [
    {
     "data": {
      "text/plain": "   buying__high  buying__low  buying__med  buying__vhigh\n0         False        False        False           True\n1         False        False        False           True\n2         False        False        False           True\n3         False        False        False           True\n4         False        False        False           True",
      "text/html": "<div>\n<style scoped>\n    .dataframe tbody tr th:only-of-type {\n        vertical-align: middle;\n    }\n\n    .dataframe tbody tr th {\n        vertical-align: top;\n    }\n\n    .dataframe thead th {\n        text-align: right;\n    }\n</style>\n<table border=\"1\" class=\"dataframe\">\n  <thead>\n    <tr style=\"text-align: right;\">\n      <th></th>\n      <th>buying__high</th>\n      <th>buying__low</th>\n      <th>buying__med</th>\n      <th>buying__vhigh</th>\n    </tr>\n  </thead>\n  <tbody>\n    <tr>\n      <th>0</th>\n      <td>False</td>\n      <td>False</td>\n      <td>False</td>\n      <td>True</td>\n    </tr>\n    <tr>\n      <th>1</th>\n      <td>False</td>\n      <td>False</td>\n      <td>False</td>\n      <td>True</td>\n    </tr>\n    <tr>\n      <th>2</th>\n      <td>False</td>\n      <td>False</td>\n      <td>False</td>\n      <td>True</td>\n    </tr>\n    <tr>\n      <th>3</th>\n      <td>False</td>\n      <td>False</td>\n      <td>False</td>\n      <td>True</td>\n    </tr>\n    <tr>\n      <th>4</th>\n      <td>False</td>\n      <td>False</td>\n      <td>False</td>\n      <td>True</td>\n    </tr>\n  </tbody>\n</table>\n</div>"
     },
     "execution_count": 16,
     "metadata": {},
     "output_type": "execute_result"
    }
   ],
   "source": [
    "pd.get_dummies(car[\"buying\"], prefix=\"buying_\").head(5)"
   ],
   "metadata": {
    "collapsed": false,
    "ExecuteTime": {
     "end_time": "2023-05-12T12:10:23.455048900Z",
     "start_time": "2023-05-12T12:10:23.383269400Z"
    }
   }
  },
  {
   "cell_type": "code",
   "execution_count": 18,
   "outputs": [
    {
     "data": {
      "text/plain": "   buying__high  buying__low  buying__med  buying__vhigh  maint__high   \n0         False        False        False           True        False  \\\n1         False        False        False           True        False   \n2         False        False        False           True        False   \n3         False        False        False           True        False   \n4         False        False        False           True        False   \n\n   maint__low  maint__med  maint__vhigh  doors__2  doors__3  ...  persons__2   \n0       False       False          True      True     False  ...        True  \\\n1       False       False          True      True     False  ...        True   \n2       False       False          True      True     False  ...        True   \n3       False       False          True      True     False  ...        True   \n4       False       False          True      True     False  ...        True   \n\n   persons__4  persons__more  lug_boot__big  lug_boot__med  lug_boot__small   \n0       False          False          False          False             True  \\\n1       False          False          False          False             True   \n2       False          False          False          False             True   \n3       False          False          False           True            False   \n4       False          False          False           True            False   \n\n   safety__high  safety__low  safety__med  acceptance  \n0         False         True        False       unacc  \n1         False        False         True       unacc  \n2          True        False        False       unacc  \n3         False         True        False       unacc  \n4         False        False         True       unacc  \n\n[5 rows x 22 columns]",
      "text/html": "<div>\n<style scoped>\n    .dataframe tbody tr th:only-of-type {\n        vertical-align: middle;\n    }\n\n    .dataframe tbody tr th {\n        vertical-align: top;\n    }\n\n    .dataframe thead th {\n        text-align: right;\n    }\n</style>\n<table border=\"1\" class=\"dataframe\">\n  <thead>\n    <tr style=\"text-align: right;\">\n      <th></th>\n      <th>buying__high</th>\n      <th>buying__low</th>\n      <th>buying__med</th>\n      <th>buying__vhigh</th>\n      <th>maint__high</th>\n      <th>maint__low</th>\n      <th>maint__med</th>\n      <th>maint__vhigh</th>\n      <th>doors__2</th>\n      <th>doors__3</th>\n      <th>...</th>\n      <th>persons__2</th>\n      <th>persons__4</th>\n      <th>persons__more</th>\n      <th>lug_boot__big</th>\n      <th>lug_boot__med</th>\n      <th>lug_boot__small</th>\n      <th>safety__high</th>\n      <th>safety__low</th>\n      <th>safety__med</th>\n      <th>acceptance</th>\n    </tr>\n  </thead>\n  <tbody>\n    <tr>\n      <th>0</th>\n      <td>False</td>\n      <td>False</td>\n      <td>False</td>\n      <td>True</td>\n      <td>False</td>\n      <td>False</td>\n      <td>False</td>\n      <td>True</td>\n      <td>True</td>\n      <td>False</td>\n      <td>...</td>\n      <td>True</td>\n      <td>False</td>\n      <td>False</td>\n      <td>False</td>\n      <td>False</td>\n      <td>True</td>\n      <td>False</td>\n      <td>True</td>\n      <td>False</td>\n      <td>unacc</td>\n    </tr>\n    <tr>\n      <th>1</th>\n      <td>False</td>\n      <td>False</td>\n      <td>False</td>\n      <td>True</td>\n      <td>False</td>\n      <td>False</td>\n      <td>False</td>\n      <td>True</td>\n      <td>True</td>\n      <td>False</td>\n      <td>...</td>\n      <td>True</td>\n      <td>False</td>\n      <td>False</td>\n      <td>False</td>\n      <td>False</td>\n      <td>True</td>\n      <td>False</td>\n      <td>False</td>\n      <td>True</td>\n      <td>unacc</td>\n    </tr>\n    <tr>\n      <th>2</th>\n      <td>False</td>\n      <td>False</td>\n      <td>False</td>\n      <td>True</td>\n      <td>False</td>\n      <td>False</td>\n      <td>False</td>\n      <td>True</td>\n      <td>True</td>\n      <td>False</td>\n      <td>...</td>\n      <td>True</td>\n      <td>False</td>\n      <td>False</td>\n      <td>False</td>\n      <td>False</td>\n      <td>True</td>\n      <td>True</td>\n      <td>False</td>\n      <td>False</td>\n      <td>unacc</td>\n    </tr>\n    <tr>\n      <th>3</th>\n      <td>False</td>\n      <td>False</td>\n      <td>False</td>\n      <td>True</td>\n      <td>False</td>\n      <td>False</td>\n      <td>False</td>\n      <td>True</td>\n      <td>True</td>\n      <td>False</td>\n      <td>...</td>\n      <td>True</td>\n      <td>False</td>\n      <td>False</td>\n      <td>False</td>\n      <td>True</td>\n      <td>False</td>\n      <td>False</td>\n      <td>True</td>\n      <td>False</td>\n      <td>unacc</td>\n    </tr>\n    <tr>\n      <th>4</th>\n      <td>False</td>\n      <td>False</td>\n      <td>False</td>\n      <td>True</td>\n      <td>False</td>\n      <td>False</td>\n      <td>False</td>\n      <td>True</td>\n      <td>True</td>\n      <td>False</td>\n      <td>...</td>\n      <td>True</td>\n      <td>False</td>\n      <td>False</td>\n      <td>False</td>\n      <td>True</td>\n      <td>False</td>\n      <td>False</td>\n      <td>False</td>\n      <td>True</td>\n      <td>unacc</td>\n    </tr>\n  </tbody>\n</table>\n<p>5 rows × 22 columns</p>\n</div>"
     },
     "execution_count": 18,
     "metadata": {},
     "output_type": "execute_result"
    }
   ],
   "source": [
    "# 新建dataframe存储编码后的数据\n",
    "car_onehot_encoded = pd.DataFrame()\n",
    "# 对各个特征依次编码\n",
    "for col in [\"buying\", \"maint\", \"doors\", \"persons\", \"lug_boot\", \"safety\"]:\n",
    "    col_encoded = pd.get_dummies(car[col], prefix=col + \"_\")\n",
    "    car_onehot_encoded = pd.concat([car_onehot_encoded, col_encoded], axis=1)\n",
    "# 在数据后，加上目标特征列\n",
    "car_onehot_encoded = pd.concat([car_onehot_encoded, car[\"acceptance\"]], axis=1)\n",
    "# 查看编码后的数据集\n",
    "car_onehot_encoded.head(5)"
   ],
   "metadata": {
    "collapsed": false,
    "ExecuteTime": {
     "end_time": "2023-05-12T12:10:43.240603800Z",
     "start_time": "2023-05-12T12:10:43.209788800Z"
    }
   }
  },
  {
   "cell_type": "code",
   "execution_count": 19,
   "outputs": [
    {
     "name": "stdout",
     "output_type": "stream",
     "text": [
      "acceptance\n",
      "unacc    0.700579\n",
      "acc      0.222498\n",
      "good     0.039702\n",
      "vgood    0.037221\n",
      "Name: count, dtype: float64\n",
      "acceptance\n",
      "unacc    0.699422\n",
      "acc      0.221580\n",
      "good     0.040462\n",
      "vgood    0.038536\n",
      "Name: count, dtype: float64\n"
     ]
    }
   ],
   "source": [
    "# 数字编码数据集进行划分\n",
    "x_num = car_num_encoded.iloc[:, :6]\n",
    "y_num = car_num_encoded[\"acceptance\"]\n",
    "# 将百分之七十数据作为训练集，剩余作为测试集。按照acceptance进行分成抽样，确保测试集和训练集满意程度分布情况一致\n",
    "x_train_num, x_test_num, y_train_num, y_test_num = train_test_split(x_num, y_num, test_size=0.3, stratify=y_num,random_state=42)\n",
    "# 输出训练集各个取值样本所占比例\n",
    "print(y_train_num.value_counts() / len(y_train_num))\n",
    "# 输出测试集各个取值样本所占比例\n",
    "print(y_test_num.value_counts() / len(y_test_num))"
   ],
   "metadata": {
    "collapsed": false,
    "ExecuteTime": {
     "end_time": "2023-05-12T12:12:13.497645500Z",
     "start_time": "2023-05-12T12:12:13.492063500Z"
    }
   }
  },
  {
   "cell_type": "code",
   "execution_count": 20,
   "outputs": [
    {
     "name": "stdout",
     "output_type": "stream",
     "text": [
      "acceptance\n",
      "unacc    0.700579\n",
      "acc      0.222498\n",
      "good     0.039702\n",
      "vgood    0.037221\n",
      "Name: count, dtype: float64\n",
      "acceptance\n",
      "unacc    0.699422\n",
      "acc      0.221580\n",
      "good     0.040462\n",
      "vgood    0.038536\n",
      "Name: count, dtype: float64\n"
     ]
    }
   ],
   "source": [
    "# one-hot编码数据集进行划分\n",
    "x_onehot = car_onehot_encoded.iloc[:,:21]\n",
    "y_onehot = car_onehot_encoded[\"acceptance\"]\n",
    "# 将百分之七十数据作为训练集，剩余作为测试集。按照acceptance进行分成抽样，确保测试集和训练集满意程度分布情况一致\n",
    "x_train_onehot, x_test_onehot, y_train_onehot, y_test_onehot = train_test_split(x_onehot, y_onehot, test_size=0.3, stratify=y_onehot, random_state=42)\n",
    "# 输出训练集各个取值样本所占比例\n",
    "print (y_train_onehot.value_counts()/len(y_train_onehot))\n",
    "# 输出测试集各个取值样本所占比例\n",
    "print (y_test_onehot.value_counts()/len(y_test_onehot))"
   ],
   "metadata": {
    "collapsed": false,
    "ExecuteTime": {
     "end_time": "2023-05-12T12:12:33.081711400Z",
     "start_time": "2023-05-12T12:12:33.019142200Z"
    }
   }
  },
  {
   "cell_type": "code",
   "execution_count": 22,
   "outputs": [
    {
     "data": {
      "text/plain": "LogisticRegression(max_iter=5000)",
      "text/html": "<style>#sk-container-id-1 {color: black;background-color: white;}#sk-container-id-1 pre{padding: 0;}#sk-container-id-1 div.sk-toggleable {background-color: white;}#sk-container-id-1 label.sk-toggleable__label {cursor: pointer;display: block;width: 100%;margin-bottom: 0;padding: 0.3em;box-sizing: border-box;text-align: center;}#sk-container-id-1 label.sk-toggleable__label-arrow:before {content: \"▸\";float: left;margin-right: 0.25em;color: #696969;}#sk-container-id-1 label.sk-toggleable__label-arrow:hover:before {color: black;}#sk-container-id-1 div.sk-estimator:hover label.sk-toggleable__label-arrow:before {color: black;}#sk-container-id-1 div.sk-toggleable__content {max-height: 0;max-width: 0;overflow: hidden;text-align: left;background-color: #f0f8ff;}#sk-container-id-1 div.sk-toggleable__content pre {margin: 0.2em;color: black;border-radius: 0.25em;background-color: #f0f8ff;}#sk-container-id-1 input.sk-toggleable__control:checked~div.sk-toggleable__content {max-height: 200px;max-width: 100%;overflow: auto;}#sk-container-id-1 input.sk-toggleable__control:checked~label.sk-toggleable__label-arrow:before {content: \"▾\";}#sk-container-id-1 div.sk-estimator input.sk-toggleable__control:checked~label.sk-toggleable__label {background-color: #d4ebff;}#sk-container-id-1 div.sk-label input.sk-toggleable__control:checked~label.sk-toggleable__label {background-color: #d4ebff;}#sk-container-id-1 input.sk-hidden--visually {border: 0;clip: rect(1px 1px 1px 1px);clip: rect(1px, 1px, 1px, 1px);height: 1px;margin: -1px;overflow: hidden;padding: 0;position: absolute;width: 1px;}#sk-container-id-1 div.sk-estimator {font-family: monospace;background-color: #f0f8ff;border: 1px dotted black;border-radius: 0.25em;box-sizing: border-box;margin-bottom: 0.5em;}#sk-container-id-1 div.sk-estimator:hover {background-color: #d4ebff;}#sk-container-id-1 div.sk-parallel-item::after {content: \"\";width: 100%;border-bottom: 1px solid gray;flex-grow: 1;}#sk-container-id-1 div.sk-label:hover label.sk-toggleable__label {background-color: #d4ebff;}#sk-container-id-1 div.sk-serial::before {content: \"\";position: absolute;border-left: 1px solid gray;box-sizing: border-box;top: 0;bottom: 0;left: 50%;z-index: 0;}#sk-container-id-1 div.sk-serial {display: flex;flex-direction: column;align-items: center;background-color: white;padding-right: 0.2em;padding-left: 0.2em;position: relative;}#sk-container-id-1 div.sk-item {position: relative;z-index: 1;}#sk-container-id-1 div.sk-parallel {display: flex;align-items: stretch;justify-content: center;background-color: white;position: relative;}#sk-container-id-1 div.sk-item::before, #sk-container-id-1 div.sk-parallel-item::before {content: \"\";position: absolute;border-left: 1px solid gray;box-sizing: border-box;top: 0;bottom: 0;left: 50%;z-index: -1;}#sk-container-id-1 div.sk-parallel-item {display: flex;flex-direction: column;z-index: 1;position: relative;background-color: white;}#sk-container-id-1 div.sk-parallel-item:first-child::after {align-self: flex-end;width: 50%;}#sk-container-id-1 div.sk-parallel-item:last-child::after {align-self: flex-start;width: 50%;}#sk-container-id-1 div.sk-parallel-item:only-child::after {width: 0;}#sk-container-id-1 div.sk-dashed-wrapped {border: 1px dashed gray;margin: 0 0.4em 0.5em 0.4em;box-sizing: border-box;padding-bottom: 0.4em;background-color: white;}#sk-container-id-1 div.sk-label label {font-family: monospace;font-weight: bold;display: inline-block;line-height: 1.2em;}#sk-container-id-1 div.sk-label-container {text-align: center;}#sk-container-id-1 div.sk-container {/* jupyter's `normalize.less` sets `[hidden] { display: none; }` but bootstrap.min.css set `[hidden] { display: none !important; }` so we also need the `!important` here to be able to override the default hidden behavior on the sphinx rendered scikit-learn.org. See: https://github.com/scikit-learn/scikit-learn/issues/21755 */display: inline-block !important;position: relative;}#sk-container-id-1 div.sk-text-repr-fallback {display: none;}</style><div id=\"sk-container-id-1\" class=\"sk-top-container\"><div class=\"sk-text-repr-fallback\"><pre>LogisticRegression(max_iter=5000)</pre><b>In a Jupyter environment, please rerun this cell to show the HTML representation or trust the notebook. <br />On GitHub, the HTML representation is unable to render, please try loading this page with nbviewer.org.</b></div><div class=\"sk-container\" hidden><div class=\"sk-item\"><div class=\"sk-estimator sk-toggleable\"><input class=\"sk-toggleable__control sk-hidden--visually\" id=\"sk-estimator-id-1\" type=\"checkbox\" checked><label for=\"sk-estimator-id-1\" class=\"sk-toggleable__label sk-toggleable__label-arrow\">LogisticRegression</label><div class=\"sk-toggleable__content\"><pre>LogisticRegression(max_iter=5000)</pre></div></div></div></div></div>"
     },
     "execution_count": 22,
     "metadata": {},
     "output_type": "execute_result"
    }
   ],
   "source": [
    "# 创建逻辑回归模型模型\n",
    "num_model = LogisticRegression(max_iter=5000)\n",
    "onehot_model = LogisticRegression(max_iter=5000)\n",
    "# 分别用数字编码的数据集和one-hot编码的数据集训练模型\n",
    "num_model.fit(x_train_num, y_train_num)\n",
    "onehot_model.fit(x_train_onehot, y_train_onehot)"
   ],
   "metadata": {
    "collapsed": false,
    "ExecuteTime": {
     "end_time": "2023-05-12T12:15:54.121568100Z",
     "start_time": "2023-05-12T12:15:54.047366Z"
    }
   }
  },
  {
   "cell_type": "code",
   "execution_count": 25,
   "outputs": [
    {
     "name": "stdout",
     "output_type": "stream",
     "text": [
      "              precision    recall  f1-score   support\n",
      "\n",
      "         acc       0.65      0.50      0.57       115\n",
      "        good       0.67      0.57      0.62        21\n",
      "       unacc       0.87      0.94      0.90       363\n",
      "       vgood       0.76      0.65      0.70        20\n",
      "\n",
      "    accuracy                           0.82       519\n",
      "   macro avg       0.74      0.67      0.70       519\n",
      "weighted avg       0.81      0.82      0.81       519\n",
      "\n"
     ]
    }
   ],
   "source": [
    "# 获取数据编码对应模型的预测结果\n",
    "y_pred_num = num_model.predict(x_test_num)\n",
    "# 获取one-hot编码对应模型的预测结果\n",
    "y_pred_onehot = onehot_model.predict(x_test_onehot)\n",
    "# 查看数字编码训练模型的性能\n",
    "print(classification_report(y_test_num, y_pred_num))"
   ],
   "metadata": {
    "collapsed": false,
    "ExecuteTime": {
     "end_time": "2023-05-12T12:17:10.467192600Z",
     "start_time": "2023-05-12T12:17:10.412652Z"
    }
   }
  },
  {
   "cell_type": "code",
   "execution_count": 26,
   "outputs": [
    {
     "name": "stdout",
     "output_type": "stream",
     "text": [
      "              precision    recall  f1-score   support\n",
      "\n",
      "         acc       0.79      0.84      0.82       115\n",
      "        good       0.69      0.43      0.53        21\n",
      "       unacc       0.96      0.97      0.97       363\n",
      "       vgood       0.95      0.90      0.92        20\n",
      "\n",
      "    accuracy                           0.92       519\n",
      "   macro avg       0.85      0.78      0.81       519\n",
      "weighted avg       0.91      0.92      0.91       519\n",
      "\n"
     ]
    }
   ],
   "source": [
    "# 查看onehot编码训练模型的性能\n",
    "print(classification_report(y_test_onehot, y_pred_onehot))"
   ],
   "metadata": {
    "collapsed": false,
    "ExecuteTime": {
     "end_time": "2023-05-12T12:17:15.898915600Z",
     "start_time": "2023-05-12T12:17:15.819014700Z"
    }
   }
  },
  {
   "cell_type": "code",
   "execution_count": 28,
   "outputs": [],
   "source": [
    "car_onehot_encoded.to_csv(\"./output/one-hot.csv\")"
   ],
   "metadata": {
    "collapsed": false,
    "ExecuteTime": {
     "end_time": "2023-05-12T12:17:30.484439400Z",
     "start_time": "2023-05-12T12:17:30.454109500Z"
    }
   }
  },
  {
   "cell_type": "code",
   "execution_count": null,
   "outputs": [],
   "source": [],
   "metadata": {
    "collapsed": false
   }
  }
 ],
 "metadata": {
  "kernelspec": {
   "display_name": "Python 3",
   "language": "python",
   "name": "python3"
  },
  "language_info": {
   "codemirror_mode": {
    "name": "ipython",
    "version": 2
   },
   "file_extension": ".py",
   "mimetype": "text/x-python",
   "name": "python",
   "nbconvert_exporter": "python",
   "pygments_lexer": "ipython2",
   "version": "2.7.6"
  }
 },
 "nbformat": 4,
 "nbformat_minor": 0
}
